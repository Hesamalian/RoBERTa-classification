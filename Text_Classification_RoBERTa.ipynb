{
  "nbformat": 4,
  "nbformat_minor": 0,
  "metadata": {
    "colab": {
      "name": "Text_Classification_RoBERTa.ipynb",
      "version": "0.3.2",
      "provenance": [],
      "collapsed_sections": [],
      "include_colab_link": true
    },
    "kernelspec": {
      "name": "python3",
      "display_name": "Python 3"
    },
    "accelerator": "GPU"
  },
  "cells": [
    {
      "cell_type": "markdown",
      "metadata": {
        "id": "view-in-github",
        "colab_type": "text"
      },
      "source": [
        "<a href=\"https://colab.research.google.com/github/Hesamalian/RoBERTa-classification/blob/master/Text_Classification_RoBERTa.ipynb\" target=\"_parent\"><img src=\"https://colab.research.google.com/assets/colab-badge.svg\" alt=\"Open In Colab\"/></a>"
      ]
    },
    {
      "cell_type": "code",
      "metadata": {
        "id": "yvMlDjs63TBG",
        "colab_type": "code",
        "outputId": "1b358a75-58ea-4a7f-b065-0dfa612d8759",
        "colab": {
          "base_uri": "https://localhost:8080/",
          "height": 229
        }
      },
      "source": [
        "import pandas as pd\n",
        "import numpy as np\n",
        "import json, re\n",
        "from tqdm import tqdm_notebook\n",
        "from uuid import uuid4\n",
        "\n",
        "## Torch Modules\n",
        "import torch\n",
        "import torch.optim as optim\n",
        "import torch.nn as nn\n",
        "import torch.nn.functional as F\n",
        "from torch.autograd import Variable\n",
        "from torch.utils.data import Dataset, DataLoader\n",
        "\n",
        "\n",
        "## Mount Drive into Colab\n",
        "from google.colab import drive\n",
        "drive.mount('/content/drive')"
      ],
      "execution_count": 1,
      "outputs": [
        {
          "output_type": "stream",
          "text": [
            "Go to this URL in a browser: https://accounts.google.com/o/oauth2/auth?client_id=947318989803-6bn6qk8qdgf4n4g3pfee6491hc0brc4i.apps.googleusercontent.com&redirect_uri=urn%3Aietf%3Awg%3Aoauth%3A2.0%3Aoob&scope=email%20https%3A%2F%2Fwww.googleapis.com%2Fauth%2Fdocs.test%20https%3A%2F%2Fwww.googleapis.com%2Fauth%2Fdrive%20https%3A%2F%2Fwww.googleapis.com%2Fauth%2Fdrive.photos.readonly%20https%3A%2F%2Fwww.googleapis.com%2Fauth%2Fpeopleapi.readonly&response_type=code\n",
            "\n",
            "Enter your authorization code:\n",
            "··········\n",
            "Mounted at /content/drive\n"
          ],
          "name": "stdout"
        }
      ]
    },
    {
      "cell_type": "code",
      "metadata": {
        "id": "UFaPT_uM5YJL",
        "colab_type": "code",
        "colab": {
          "base_uri": "https://localhost:8080/",
          "height": 659
        },
        "outputId": "2a25cdf6-f4dd-4fa3-dac8-9613dc3c3f04"
      },
      "source": [
        "## PyTorch Transformer\n",
        "!pip install pytorch_transformers\n",
        "from pytorch_transformers import RobertaModel, RobertaTokenizer\n",
        "from pytorch_transformers import RobertaForSequenceClassification, RobertaConfig"
      ],
      "execution_count": 3,
      "outputs": [
        {
          "output_type": "stream",
          "text": [
            "Collecting pytorch_transformers\n",
            "\u001b[?25l  Downloading https://files.pythonhosted.org/packages/50/89/ad0d6bb932d0a51793eaabcf1617a36ff530dc9ab9e38f765a35dc293306/pytorch_transformers-1.1.0-py3-none-any.whl (158kB)\n",
            "\r\u001b[K     |██                              | 10kB 23.7MB/s eta 0:00:01\r\u001b[K     |████▏                           | 20kB 3.0MB/s eta 0:00:01\r\u001b[K     |██████▏                         | 30kB 4.3MB/s eta 0:00:01\r\u001b[K     |████████▎                       | 40kB 2.9MB/s eta 0:00:01\r\u001b[K     |██████████▍                     | 51kB 3.6MB/s eta 0:00:01\r\u001b[K     |████████████▍                   | 61kB 4.3MB/s eta 0:00:01\r\u001b[K     |██████████████▌                 | 71kB 4.9MB/s eta 0:00:01\r\u001b[K     |████████████████▋               | 81kB 5.5MB/s eta 0:00:01\r\u001b[K     |██████████████████▋             | 92kB 6.2MB/s eta 0:00:01\r\u001b[K     |████████████████████▊           | 102kB 4.8MB/s eta 0:00:01\r\u001b[K     |██████████████████████▉         | 112kB 4.8MB/s eta 0:00:01\r\u001b[K     |████████████████████████▉       | 122kB 4.8MB/s eta 0:00:01\r\u001b[K     |███████████████████████████     | 133kB 4.8MB/s eta 0:00:01\r\u001b[K     |█████████████████████████████   | 143kB 4.8MB/s eta 0:00:01\r\u001b[K     |███████████████████████████████ | 153kB 4.8MB/s eta 0:00:01\r\u001b[K     |████████████████████████████████| 163kB 4.8MB/s \n",
            "\u001b[?25hRequirement already satisfied: requests in /usr/local/lib/python3.6/dist-packages (from pytorch_transformers) (2.21.0)\n",
            "Collecting regex (from pytorch_transformers)\n",
            "\u001b[?25l  Downloading https://files.pythonhosted.org/packages/6f/a6/99eeb5904ab763db87af4bd71d9b1dfdd9792681240657a4c0a599c10a81/regex-2019.08.19.tar.gz (654kB)\n",
            "\u001b[K     |████████████████████████████████| 655kB 50.2MB/s \n",
            "\u001b[?25hRequirement already satisfied: numpy in /usr/local/lib/python3.6/dist-packages (from pytorch_transformers) (1.16.4)\n",
            "Requirement already satisfied: torch>=1.0.0 in /usr/local/lib/python3.6/dist-packages (from pytorch_transformers) (1.1.0)\n",
            "Collecting sentencepiece (from pytorch_transformers)\n",
            "\u001b[?25l  Downloading https://files.pythonhosted.org/packages/14/3d/efb655a670b98f62ec32d66954e1109f403db4d937c50d779a75b9763a29/sentencepiece-0.1.83-cp36-cp36m-manylinux1_x86_64.whl (1.0MB)\n",
            "\u001b[K     |████████████████████████████████| 1.0MB 48.9MB/s \n",
            "\u001b[?25hRequirement already satisfied: tqdm in /usr/local/lib/python3.6/dist-packages (from pytorch_transformers) (4.28.1)\n",
            "Requirement already satisfied: boto3 in /usr/local/lib/python3.6/dist-packages (from pytorch_transformers) (1.9.205)\n",
            "Requirement already satisfied: chardet<3.1.0,>=3.0.2 in /usr/local/lib/python3.6/dist-packages (from requests->pytorch_transformers) (3.0.4)\n",
            "Requirement already satisfied: urllib3<1.25,>=1.21.1 in /usr/local/lib/python3.6/dist-packages (from requests->pytorch_transformers) (1.24.3)\n",
            "Requirement already satisfied: idna<2.9,>=2.5 in /usr/local/lib/python3.6/dist-packages (from requests->pytorch_transformers) (2.8)\n",
            "Requirement already satisfied: certifi>=2017.4.17 in /usr/local/lib/python3.6/dist-packages (from requests->pytorch_transformers) (2019.6.16)\n",
            "Requirement already satisfied: s3transfer<0.3.0,>=0.2.0 in /usr/local/lib/python3.6/dist-packages (from boto3->pytorch_transformers) (0.2.1)\n",
            "Requirement already satisfied: botocore<1.13.0,>=1.12.205 in /usr/local/lib/python3.6/dist-packages (from boto3->pytorch_transformers) (1.12.205)\n",
            "Requirement already satisfied: jmespath<1.0.0,>=0.7.1 in /usr/local/lib/python3.6/dist-packages (from boto3->pytorch_transformers) (0.9.4)\n",
            "Requirement already satisfied: python-dateutil<3.0.0,>=2.1; python_version >= \"2.7\" in /usr/local/lib/python3.6/dist-packages (from botocore<1.13.0,>=1.12.205->boto3->pytorch_transformers) (2.5.3)\n",
            "Requirement already satisfied: docutils<0.15,>=0.10 in /usr/local/lib/python3.6/dist-packages (from botocore<1.13.0,>=1.12.205->boto3->pytorch_transformers) (0.14)\n",
            "Requirement already satisfied: six>=1.5 in /usr/local/lib/python3.6/dist-packages (from python-dateutil<3.0.0,>=2.1; python_version >= \"2.7\"->botocore<1.13.0,>=1.12.205->boto3->pytorch_transformers) (1.12.0)\n",
            "Building wheels for collected packages: regex\n",
            "  Building wheel for regex (setup.py) ... \u001b[?25l\u001b[?25hdone\n",
            "  Created wheel for regex: filename=regex-2019.8.19-cp36-cp36m-linux_x86_64.whl size=609232 sha256=0a75d09c7d02dd61af3e3cd1ad911c4052025635810e503ff3d533dff6e7b212\n",
            "  Stored in directory: /root/.cache/pip/wheels/90/04/07/b5010fb816721eb3d6dd64ed5cc8111ca23f97fdab8619b5be\n",
            "Successfully built regex\n",
            "Installing collected packages: regex, sentencepiece, pytorch-transformers\n",
            "Successfully installed pytorch-transformers-1.1.0 regex-2019.8.19 sentencepiece-0.1.83\n"
          ],
          "name": "stdout"
        }
      ]
    },
    {
      "cell_type": "code",
      "metadata": {
        "id": "KRzo1v6D4O2t",
        "colab_type": "code",
        "outputId": "166b4a20-6fa5-4e14-8f8a-4ce7c185eb70",
        "colab": {
          "base_uri": "https://localhost:8080/",
          "height": 34
        }
      },
      "source": [
        "## Check if Cuda is Available\n",
        "print(torch.cuda.is_available())"
      ],
      "execution_count": 4,
      "outputs": [
        {
          "output_type": "stream",
          "text": [
            "True\n"
          ],
          "name": "stdout"
        }
      ]
    },
    {
      "cell_type": "code",
      "metadata": {
        "id": "OGnE-bXo3-77",
        "colab_type": "code",
        "colab": {}
      },
      "source": [
        "## Install PyTorch-Transformer"
      ],
      "execution_count": 0,
      "outputs": []
    },
    {
      "cell_type": "code",
      "metadata": {
        "id": "Put6o1wF3-yk",
        "colab_type": "code",
        "colab": {}
      },
      "source": [
        "#!pip install -U pytorch-transformers"
      ],
      "execution_count": 0,
      "outputs": []
    },
    {
      "cell_type": "code",
      "metadata": {
        "id": "hkRqK2sM3evs",
        "colab_type": "code",
        "colab": {}
      },
      "source": [
        "## Importing Datasets"
      ],
      "execution_count": 0,
      "outputs": []
    },
    {
      "cell_type": "code",
      "metadata": {
        "id": "sFxJipvShd_9",
        "colab_type": "code",
        "colab": {}
      },
      "source": [
        "from google.colab import drive\n",
        "drive.mount('/content/drive')"
      ],
      "execution_count": 0,
      "outputs": []
    },
    {
      "cell_type": "code",
      "metadata": {
        "id": "HIqwXlCy4g-U",
        "colab_type": "code",
        "outputId": "94a98253-41bc-4355-8f1c-d406cf89b473",
        "colab": {
          "base_uri": "https://localhost:8080/",
          "height": 80
        }
      },
      "source": [
        "!ls drive/'My Drive'/2017-06-custom-intent-engines"
      ],
      "execution_count": 10,
      "outputs": [
        {
          "output_type": "stream",
          "text": [
            "AddToPlaylist\tGetWeather  RateBook   SearchCreativeWork\n",
            "BookRestaurant\tPlayMusic   README.md  SearchScreeningEvent\n"
          ],
          "name": "stdout"
        }
      ]
    },
    {
      "cell_type": "code",
      "metadata": {
        "id": "uudmDs_U39YL",
        "colab_type": "code",
        "colab": {}
      },
      "source": [
        "dataset_path = \"drive/My Drive/2017-06-custom-intent-engines/\""
      ],
      "execution_count": 0,
      "outputs": []
    },
    {
      "cell_type": "code",
      "metadata": {
        "id": "mJi5RkLC4WsV",
        "colab_type": "code",
        "outputId": "4cdb2a4e-b55e-4ede-f579-22f0812037ef",
        "colab": {
          "base_uri": "https://localhost:8080/",
          "height": 136
        }
      },
      "source": [
        "dataset = pd.DataFrame(columns = ['utterance', 'label'])\n",
        "for intent in ['AddToPlaylist', 'BookRestaurant', 'GetWeather', 'PlayMusic', 'RateBook', 'SearchCreativeWork',\n",
        "               'SearchScreeningEvent']:\n",
        "    with open(dataset_path + intent + \"/train_\" + intent + \".json\",\n",
        "              encoding='cp1251') as data_file:\n",
        "        data = json.load(data_file)\n",
        "    print(\"Class: {}, # utterances: {}\".format(intent,len(data[intent])))\n",
        "    texts = []\n",
        "    for i in range(len(data[intent])):\n",
        "        text = ''\n",
        "        for j in range(len(data[intent][i]['data'])):\n",
        "            text += data[intent][i]['data'][j]['text']\n",
        "        dataset = dataset.append({'utterance': text, 'label': intent}, ignore_index=True)"
      ],
      "execution_count": 12,
      "outputs": [
        {
          "output_type": "stream",
          "text": [
            "Class: AddToPlaylist, # utterances: 300\n",
            "Class: BookRestaurant, # utterances: 300\n",
            "Class: GetWeather, # utterances: 300\n",
            "Class: PlayMusic, # utterances: 300\n",
            "Class: RateBook, # utterances: 300\n",
            "Class: SearchCreativeWork, # utterances: 300\n",
            "Class: SearchScreeningEvent, # utterances: 300\n"
          ],
          "name": "stdout"
        }
      ]
    },
    {
      "cell_type": "code",
      "metadata": {
        "id": "gvNXPtT-4Xed",
        "colab_type": "code",
        "outputId": "827ec1de-4bd1-471d-e3b2-75902deb5206",
        "colab": {
          "base_uri": "https://localhost:8080/",
          "height": 136
        }
      },
      "source": [
        "label_to_ix = {}\n",
        "for label in dataset.label:\n",
        "    for word in label.split():\n",
        "        if word not in label_to_ix:\n",
        "            label_to_ix[word]=len(label_to_ix)\n",
        "label_to_ix"
      ],
      "execution_count": 13,
      "outputs": [
        {
          "output_type": "execute_result",
          "data": {
            "text/plain": [
              "{'AddToPlaylist': 0,\n",
              " 'BookRestaurant': 1,\n",
              " 'GetWeather': 2,\n",
              " 'PlayMusic': 3,\n",
              " 'RateBook': 4,\n",
              " 'SearchCreativeWork': 5,\n",
              " 'SearchScreeningEvent': 6}"
            ]
          },
          "metadata": {
            "tags": []
          },
          "execution_count": 13
        }
      ]
    },
    {
      "cell_type": "code",
      "metadata": {
        "id": "2FtiQj3n5Qqo",
        "colab_type": "code",
        "colab": {}
      },
      "source": [
        "## Loading RoBERTa classes"
      ],
      "execution_count": 0,
      "outputs": []
    },
    {
      "cell_type": "code",
      "metadata": {
        "id": "0ALqUM9f5Qnx",
        "colab_type": "code",
        "outputId": "a78711ed-52be-43e9-dab6-b39110d0585e",
        "colab": {
          "base_uri": "https://localhost:8080/",
          "height": 357
        }
      },
      "source": [
        "config = RobertaConfig.from_pretrained('roberta-base')\n",
        "config.num_labels = len(list(label_to_ix.values()))\n",
        "config"
      ],
      "execution_count": 14,
      "outputs": [
        {
          "output_type": "stream",
          "text": [
            "100%|██████████| 473/473 [00:00<00:00, 138560.26B/s]\n"
          ],
          "name": "stderr"
        },
        {
          "output_type": "execute_result",
          "data": {
            "text/plain": [
              "{\n",
              "  \"attention_probs_dropout_prob\": 0.1,\n",
              "  \"finetuning_task\": null,\n",
              "  \"hidden_act\": \"gelu\",\n",
              "  \"hidden_dropout_prob\": 0.1,\n",
              "  \"hidden_size\": 768,\n",
              "  \"initializer_range\": 0.02,\n",
              "  \"intermediate_size\": 3072,\n",
              "  \"layer_norm_eps\": 1e-12,\n",
              "  \"max_position_embeddings\": 514,\n",
              "  \"num_attention_heads\": 12,\n",
              "  \"num_hidden_layers\": 12,\n",
              "  \"num_labels\": 7,\n",
              "  \"output_attentions\": false,\n",
              "  \"output_hidden_states\": false,\n",
              "  \"torchscript\": false,\n",
              "  \"type_vocab_size\": 1,\n",
              "  \"vocab_size\": 50265\n",
              "}"
            ]
          },
          "metadata": {
            "tags": []
          },
          "execution_count": 14
        }
      ]
    },
    {
      "cell_type": "code",
      "metadata": {
        "id": "b65wR6MO5Qkm",
        "colab_type": "code",
        "colab": {
          "base_uri": "https://localhost:8080/",
          "height": 51
        },
        "outputId": "1b6bafdc-38eb-443e-e0bb-7dd498702642"
      },
      "source": [
        "tokenizer = RobertaTokenizer.from_pretrained('roberta-base')\n",
        "model = RobertaForSequenceClassification(config)"
      ],
      "execution_count": 15,
      "outputs": [
        {
          "output_type": "stream",
          "text": [
            "100%|██████████| 898748/898748 [00:00<00:00, 2737603.36B/s]\n",
            "100%|██████████| 456318/456318 [00:00<00:00, 1460000.39B/s]\n"
          ],
          "name": "stderr"
        }
      ]
    },
    {
      "cell_type": "code",
      "metadata": {
        "id": "ZGKN5aD85Bje",
        "colab_type": "code",
        "colab": {}
      },
      "source": [
        "## Feature Preparation"
      ],
      "execution_count": 0,
      "outputs": []
    },
    {
      "cell_type": "code",
      "metadata": {
        "id": "qf0ATRkF5LEx",
        "colab_type": "code",
        "colab": {}
      },
      "source": [
        "def prepare_features(seq_1, max_seq_length = 300, \n",
        "             zero_pad = False, include_CLS_token = True, include_SEP_token = True):\n",
        "    ## Tokenzine Input\n",
        "    tokens_a = tokenizer.tokenize(seq_1)\n",
        "\n",
        "    ## Truncate\n",
        "    if len(tokens_a) > max_seq_length - 2:\n",
        "        tokens_a = tokens_a[0:(max_seq_length - 2)]\n",
        "    ## Initialize Tokens\n",
        "    tokens = []\n",
        "    if include_CLS_token:\n",
        "        tokens.append(tokenizer.cls_token)\n",
        "    ## Add Tokens and separators\n",
        "    for token in tokens_a:\n",
        "        tokens.append(token)\n",
        "\n",
        "    if include_SEP_token:\n",
        "        tokens.append(tokenizer.sep_token)\n",
        "\n",
        "    input_ids = tokenizer.convert_tokens_to_ids(tokens)\n",
        "    ## Input Mask \n",
        "    input_mask = [1] * len(input_ids)\n",
        "    ## Zero-pad sequence lenght\n",
        "    if zero_pad:\n",
        "        while len(input_ids) < max_seq_length:\n",
        "            input_ids.append(0)\n",
        "            input_mask.append(0)\n",
        "    return torch.tensor(input_ids).unsqueeze(0), input_mask"
      ],
      "execution_count": 0,
      "outputs": []
    },
    {
      "cell_type": "code",
      "metadata": {
        "id": "JDx-QxmX5Muc",
        "colab_type": "code",
        "outputId": "05fc8530-9c5c-4122-ef65-fe7922099b2a",
        "colab": {
          "base_uri": "https://localhost:8080/",
          "height": 51
        }
      },
      "source": [
        "msg = \"My dog is cute!\"\n",
        "prepare_features(msg)"
      ],
      "execution_count": 17,
      "outputs": [
        {
          "output_type": "execute_result",
          "data": {
            "text/plain": [
              "(tensor([[    0,  2387,  2335,    16, 11962,   328,     2]]),\n",
              " [1, 1, 1, 1, 1, 1, 1])"
            ]
          },
          "metadata": {
            "tags": []
          },
          "execution_count": 17
        }
      ]
    },
    {
      "cell_type": "code",
      "metadata": {
        "id": "4pNqrigh5OIZ",
        "colab_type": "code",
        "colab": {}
      },
      "source": [
        "## Dataset Loader Classes"
      ],
      "execution_count": 0,
      "outputs": []
    },
    {
      "cell_type": "code",
      "metadata": {
        "id": "Pexochza5lZq",
        "colab_type": "code",
        "colab": {}
      },
      "source": [
        "class Intents(Dataset):\n",
        "    def __init__(self, dataframe):\n",
        "        self.len = len(dataframe)\n",
        "        self.data = dataframe\n",
        "        \n",
        "    def __getitem__(self, index):\n",
        "        utterance = self.data.utterance[index]\n",
        "        label = self.data.label[index]\n",
        "        X, _  = prepare_features(utterance)\n",
        "        y = label_to_ix[self.data.label[index]]\n",
        "        return X, y\n",
        "    \n",
        "    def __len__(self):\n",
        "        return self.len"
      ],
      "execution_count": 0,
      "outputs": []
    },
    {
      "cell_type": "code",
      "metadata": {
        "id": "oCiCHdRL5mH1",
        "colab_type": "code",
        "colab": {}
      },
      "source": [
        "train_size = 0.8\n",
        "train_dataset=dataset.sample(frac=train_size,random_state=200).reset_index(drop=True)\n",
        "test_dataset=dataset.drop(train_dataset.index).reset_index(drop=True)"
      ],
      "execution_count": 0,
      "outputs": []
    },
    {
      "cell_type": "code",
      "metadata": {
        "id": "fqOFntri5yW-",
        "colab_type": "code",
        "outputId": "ce9cec8c-9a12-4138-cb55-86ff1ae5ee30",
        "colab": {
          "base_uri": "https://localhost:8080/",
          "height": 68
        }
      },
      "source": [
        "print(\"FULL Dataset: {}\".format(dataset.shape))\n",
        "print(\"TRAIN Dataset: {}\".format(train_dataset.shape))\n",
        "print(\"TEST Dataset: {}\".format(test_dataset.shape))"
      ],
      "execution_count": 21,
      "outputs": [
        {
          "output_type": "stream",
          "text": [
            "FULL Dataset: (2100, 2)\n",
            "TRAIN Dataset: (1680, 2)\n",
            "TEST Dataset: (420, 2)\n"
          ],
          "name": "stdout"
        }
      ]
    },
    {
      "cell_type": "code",
      "metadata": {
        "id": "zJkGxTWZ5z5d",
        "colab_type": "code",
        "colab": {}
      },
      "source": [
        "training_set = Intents(train_dataset)\n",
        "testing_set = Intents(test_dataset)"
      ],
      "execution_count": 0,
      "outputs": []
    },
    {
      "cell_type": "code",
      "metadata": {
        "id": "guYUIlVN51gE",
        "colab_type": "code",
        "outputId": "260865e3-1cbf-4980-9f00-5506835b9fef",
        "colab": {
          "base_uri": "https://localhost:8080/",
          "height": 34
        }
      },
      "source": [
        "training_set.__getitem__(0)[0].shape"
      ],
      "execution_count": 23,
      "outputs": [
        {
          "output_type": "execute_result",
          "data": {
            "text/plain": [
              "torch.Size([1, 8])"
            ]
          },
          "metadata": {
            "tags": []
          },
          "execution_count": 23
        }
      ]
    },
    {
      "cell_type": "code",
      "metadata": {
        "id": "iuCpzlBq52qV",
        "colab_type": "code",
        "outputId": "2330ffd7-c83c-48da-9ad7-563dea2220f1",
        "colab": {
          "base_uri": "https://localhost:8080/",
          "height": 51
        }
      },
      "source": [
        "model(training_set.__getitem__(0)[0])"
      ],
      "execution_count": 24,
      "outputs": [
        {
          "output_type": "execute_result",
          "data": {
            "text/plain": [
              "(tensor([[-0.0422,  0.0881,  0.2127,  0.4934,  0.2191, -0.0190, -0.1365]],\n",
              "        grad_fn=<AddmmBackward>),)"
            ]
          },
          "metadata": {
            "tags": []
          },
          "execution_count": 24
        }
      ]
    },
    {
      "cell_type": "code",
      "metadata": {
        "id": "Z3SH63pK5339",
        "colab_type": "code",
        "colab": {}
      },
      "source": [
        "## Training Params"
      ],
      "execution_count": 0,
      "outputs": []
    },
    {
      "cell_type": "code",
      "metadata": {
        "id": "yYQq5eSi55mZ",
        "colab_type": "code",
        "colab": {}
      },
      "source": [
        "device = torch.device(\"cuda\" if torch.cuda.is_available() else \"cpu\")\n",
        "model = model.cuda()"
      ],
      "execution_count": 0,
      "outputs": []
    },
    {
      "cell_type": "code",
      "metadata": {
        "id": "H6MIe-fe6PY2",
        "colab_type": "code",
        "colab": {}
      },
      "source": [
        "# Parameters\n",
        "params = {'batch_size': 1,\n",
        "          'shuffle': True,\n",
        "          'num_workers': 1}"
      ],
      "execution_count": 0,
      "outputs": []
    },
    {
      "cell_type": "code",
      "metadata": {
        "id": "egs1bYCe6UOL",
        "colab_type": "code",
        "colab": {}
      },
      "source": [
        "training_loader = DataLoader(training_set, **params)\n",
        "testing_loader = DataLoader(testing_set, **params)"
      ],
      "execution_count": 0,
      "outputs": []
    },
    {
      "cell_type": "code",
      "metadata": {
        "id": "0RfrS14A6WGV",
        "colab_type": "code",
        "colab": {}
      },
      "source": [
        "loss_function = nn.CrossEntropyLoss()\n",
        "learning_rate = 1e-05\n",
        "optimizer = optim.Adam(params =  model.parameters(), lr=learning_rate)"
      ],
      "execution_count": 0,
      "outputs": []
    },
    {
      "cell_type": "code",
      "metadata": {
        "id": "-n3p7ncn6Xst",
        "colab_type": "code",
        "outputId": "379ff1b1-e961-4346-f911-96fce403be89",
        "colab": {
          "base_uri": "https://localhost:8080/",
          "height": 34
        }
      },
      "source": [
        "## Test Forward Pass\n",
        "inp = training_set.__getitem__(0)[0].cuda()\n",
        "output = model(inp)[0]\n",
        "torch.max(output.data, 1)"
      ],
      "execution_count": 29,
      "outputs": [
        {
          "output_type": "execute_result",
          "data": {
            "text/plain": [
              "torch.return_types.max(values=tensor([0.2931], device='cuda:0'), indices=tensor([4], device='cuda:0'))"
            ]
          },
          "metadata": {
            "tags": []
          },
          "execution_count": 29
        }
      ]
    },
    {
      "cell_type": "code",
      "metadata": {
        "id": "xoRJhLY06evJ",
        "colab_type": "code",
        "outputId": "3346df99-e6de-44b8-af13-2c1631aec8e3",
        "colab": {
          "base_uri": "https://localhost:8080/",
          "height": 952
        }
      },
      "source": [
        "max_epochs = 3\n",
        "model = model.train()\n",
        "for epoch in tqdm_notebook(range(max_epochs)):\n",
        "    print(\"EPOCH -- {}\".format(epoch))\n",
        "    for i, (sent, label) in enumerate(training_loader):\n",
        "        optimizer.zero_grad()\n",
        "        sent = sent.squeeze(0)\n",
        "        if torch.cuda.is_available():\n",
        "          sent = sent.cuda()\n",
        "          label = label.cuda()\n",
        "        output = model.forward(sent)[0]\n",
        "        _, predicted = torch.max(output, 1)\n",
        "        \n",
        "        loss = loss_function(output, label)\n",
        "        loss.backward()\n",
        "        optimizer.step()\n",
        "        \n",
        "        if i%100 == 0:\n",
        "            correct = 0\n",
        "            total = 0\n",
        "            for sent, label in testing_loader:\n",
        "                sent = sent.squeeze(0)\n",
        "                if torch.cuda.is_available():\n",
        "                  sent = sent.cuda()\n",
        "                  label = label.cuda()\n",
        "                output = model.forward(sent)[0]\n",
        "                _, predicted = torch.max(output.data, 1)\n",
        "                total += label.size(0)\n",
        "                correct += (predicted.cpu() == label.cpu()).sum()\n",
        "            accuracy = 100.00 * correct.numpy() / total\n",
        "            print('Iteration: {}. Loss: {}. Accuracy: {}%'.format(i, loss.item(), accuracy))"
      ],
      "execution_count": 30,
      "outputs": [
        {
          "output_type": "display_data",
          "data": {
            "application/vnd.jupyter.widget-view+json": {
              "model_id": "1eab303c03b6470580a1e2d7ac84eb72",
              "version_minor": 0,
              "version_major": 2
            },
            "text/plain": [
              "HBox(children=(IntProgress(value=0, max=3), HTML(value='')))"
            ]
          },
          "metadata": {
            "tags": []
          }
        },
        {
          "output_type": "stream",
          "text": [
            "EPOCH -- 0\n",
            "Iteration: 0. Loss: 2.00026798248291. Accuracy: 0.0%\n",
            "Iteration: 100. Loss: 1.6270523071289062. Accuracy: 2.619047619047619%\n",
            "Iteration: 200. Loss: 2.211087465286255. Accuracy: 29.761904761904763%\n",
            "Iteration: 300. Loss: 2.071167469024658. Accuracy: 0.7142857142857143%\n",
            "Iteration: 400. Loss: 2.1306004524230957. Accuracy: 1.1904761904761905%\n",
            "Iteration: 500. Loss: 1.3009045124053955. Accuracy: 38.80952380952381%\n",
            "Iteration: 600. Loss: 1.7583307027816772. Accuracy: 54.76190476190476%\n",
            "Iteration: 700. Loss: 0.14388585090637207. Accuracy: 24.047619047619047%\n",
            "Iteration: 800. Loss: 1.9846148490905762. Accuracy: 44.285714285714285%\n",
            "Iteration: 900. Loss: 0.543931245803833. Accuracy: 63.095238095238095%\n",
            "Iteration: 1000. Loss: 0.08029985427856445. Accuracy: 68.33333333333333%\n",
            "Iteration: 1100. Loss: 0.4454386234283447. Accuracy: 84.76190476190476%\n",
            "Iteration: 1200. Loss: 0.07848167419433594. Accuracy: 85.71428571428571%\n",
            "Iteration: 1300. Loss: 0.052376747131347656. Accuracy: 88.33333333333333%\n",
            "Iteration: 1400. Loss: 0.5943207740783691. Accuracy: 70.47619047619048%\n",
            "Iteration: 1500. Loss: 0.01580810546875. Accuracy: 86.66666666666667%\n",
            "Iteration: 1600. Loss: 0.47740840911865234. Accuracy: 91.9047619047619%\n",
            "EPOCH -- 1\n",
            "Iteration: 0. Loss: 0.3268601894378662. Accuracy: 90.0%\n",
            "Iteration: 100. Loss: 0.0621638298034668. Accuracy: 95.47619047619048%\n",
            "Iteration: 200. Loss: 0.08084440231323242. Accuracy: 93.80952380952381%\n",
            "Iteration: 300. Loss: 0.06786680221557617. Accuracy: 93.33333333333333%\n",
            "Iteration: 400. Loss: 0.2674887180328369. Accuracy: 86.9047619047619%\n",
            "Iteration: 500. Loss: 0.057618141174316406. Accuracy: 90.71428571428571%\n",
            "Iteration: 600. Loss: 0.1616206169128418. Accuracy: 96.66666666666667%\n",
            "Iteration: 700. Loss: 0.0885157585144043. Accuracy: 99.04761904761905%\n",
            "Iteration: 800. Loss: 0.18003606796264648. Accuracy: 97.85714285714286%\n",
            "Iteration: 900. Loss: 0.1359257698059082. Accuracy: 95.95238095238095%\n",
            "Iteration: 1000. Loss: 0.01404714584350586. Accuracy: 93.0952380952381%\n",
            "Iteration: 1100. Loss: 1.643085241317749. Accuracy: 96.66666666666667%\n",
            "Iteration: 1200. Loss: 0.010802745819091797. Accuracy: 84.52380952380952%\n",
            "Iteration: 1300. Loss: 0.030282974243164062. Accuracy: 98.80952380952381%\n",
            "Iteration: 1400. Loss: 0.01305389404296875. Accuracy: 84.52380952380952%\n",
            "Iteration: 1500. Loss: 0.022320270538330078. Accuracy: 99.28571428571429%\n",
            "Iteration: 1600. Loss: 0.010208606719970703. Accuracy: 96.66666666666667%\n",
            "EPOCH -- 2\n",
            "Iteration: 0. Loss: 0.005440711975097656. Accuracy: 92.85714285714286%\n",
            "Iteration: 100. Loss: 0.009804725646972656. Accuracy: 95.47619047619048%\n",
            "Iteration: 200. Loss: 0.015226364135742188. Accuracy: 99.04761904761905%\n",
            "Iteration: 300. Loss: 0.014422416687011719. Accuracy: 99.28571428571429%\n",
            "Iteration: 400. Loss: 0.013686180114746094. Accuracy: 98.80952380952381%\n",
            "Iteration: 500. Loss: 0.02322864532470703. Accuracy: 95.71428571428571%\n",
            "Iteration: 600. Loss: 0.091064453125. Accuracy: 88.33333333333333%\n",
            "Iteration: 700. Loss: 0.0350337028503418. Accuracy: 97.38095238095238%\n",
            "Iteration: 800. Loss: 0.008509159088134766. Accuracy: 96.66666666666667%\n",
            "Iteration: 900. Loss: 0.017871379852294922. Accuracy: 93.57142857142857%\n",
            "Iteration: 1000. Loss: 0.007129669189453125. Accuracy: 99.04761904761905%\n",
            "Iteration: 1100. Loss: 0.019082069396972656. Accuracy: 92.61904761904762%\n",
            "Iteration: 1200. Loss: 0.008351325988769531. Accuracy: 100.0%\n",
            "Iteration: 1300. Loss: 0.00499725341796875. Accuracy: 98.33333333333333%\n",
            "Iteration: 1400. Loss: 0.013186454772949219. Accuracy: 97.38095238095238%\n",
            "Iteration: 1500. Loss: 0.020345687866210938. Accuracy: 97.85714285714286%\n",
            "Iteration: 1600. Loss: 0.21439409255981445. Accuracy: 98.57142857142857%\n",
            "\n"
          ],
          "name": "stdout"
        }
      ]
    },
    {
      "cell_type": "code",
      "metadata": {
        "id": "9AhmsnJO6ucy",
        "colab_type": "code",
        "colab": {}
      },
      "source": [
        "#  torch.save(model.state_dict(), 'drive/My Drive/Datasets/roberta_state_dict_'+ str(uuid4())+'.pth')"
      ],
      "execution_count": 0,
      "outputs": []
    },
    {
      "cell_type": "code",
      "metadata": {
        "id": "MF3kteN5-Quh",
        "colab_type": "code",
        "outputId": "45bef804-066c-49f4-9a38-4376a78ec9be",
        "colab": {
          "base_uri": "https://localhost:8080/",
          "height": 204
        }
      },
      "source": [
        "dataset.tail(5)"
      ],
      "execution_count": 31,
      "outputs": [
        {
          "output_type": "execute_result",
          "data": {
            "text/html": [
              "<div>\n",
              "<style scoped>\n",
              "    .dataframe tbody tr th:only-of-type {\n",
              "        vertical-align: middle;\n",
              "    }\n",
              "\n",
              "    .dataframe tbody tr th {\n",
              "        vertical-align: top;\n",
              "    }\n",
              "\n",
              "    .dataframe thead th {\n",
              "        text-align: right;\n",
              "    }\n",
              "</style>\n",
              "<table border=\"1\" class=\"dataframe\">\n",
              "  <thead>\n",
              "    <tr style=\"text-align: right;\">\n",
              "      <th></th>\n",
              "      <th>utterance</th>\n",
              "      <th>label</th>\n",
              "    </tr>\n",
              "  </thead>\n",
              "  <tbody>\n",
              "    <tr>\n",
              "      <th>2095</th>\n",
              "      <td>Is Across the Line playing at the closest movi...</td>\n",
              "      <td>SearchScreeningEvent</td>\n",
              "    </tr>\n",
              "    <tr>\n",
              "      <th>2096</th>\n",
              "      <td>Which animated movies are playing in the neigh...</td>\n",
              "      <td>SearchScreeningEvent</td>\n",
              "    </tr>\n",
              "    <tr>\n",
              "      <th>2097</th>\n",
              "      <td>Where is They Always Return at Dawn playing</td>\n",
              "      <td>SearchScreeningEvent</td>\n",
              "    </tr>\n",
              "    <tr>\n",
              "      <th>2098</th>\n",
              "      <td>What is the movie schedule in the neighborhood</td>\n",
              "      <td>SearchScreeningEvent</td>\n",
              "    </tr>\n",
              "    <tr>\n",
              "      <th>2099</th>\n",
              "      <td>Tell me when Howling II: Your Sister Is a Were...</td>\n",
              "      <td>SearchScreeningEvent</td>\n",
              "    </tr>\n",
              "  </tbody>\n",
              "</table>\n",
              "</div>"
            ],
            "text/plain": [
              "                                              utterance                 label\n",
              "2095  Is Across the Line playing at the closest movi...  SearchScreeningEvent\n",
              "2096  Which animated movies are playing in the neigh...  SearchScreeningEvent\n",
              "2097        Where is They Always Return at Dawn playing  SearchScreeningEvent\n",
              "2098     What is the movie schedule in the neighborhood  SearchScreeningEvent\n",
              "2099  Tell me when Howling II: Your Sister Is a Were...  SearchScreeningEvent"
            ]
          },
          "metadata": {
            "tags": []
          },
          "execution_count": 31
        }
      ]
    },
    {
      "cell_type": "code",
      "metadata": {
        "id": "TS2_j3qyh2hA",
        "colab_type": "code",
        "colab": {}
      },
      "source": [
        "## Load model"
      ],
      "execution_count": 0,
      "outputs": []
    },
    {
      "cell_type": "code",
      "metadata": {
        "id": "1sRpJDMDiA7N",
        "colab_type": "code",
        "colab": {}
      },
      "source": [
        "# model_path = 'drive/My Drive/Datasets/roberta_state_dict_7a4ff0ec-b474-4622-8a2f-88c58f364272.pth'"
      ],
      "execution_count": 0,
      "outputs": []
    },
    {
      "cell_type": "code",
      "metadata": {
        "id": "zswPnTBBh9to",
        "colab_type": "code",
        "colab": {}
      },
      "source": [
        "# model.load_state_dict(torch.load(model_path, map_location=device))"
      ],
      "execution_count": 0,
      "outputs": []
    },
    {
      "cell_type": "code",
      "metadata": {
        "id": "AUJIKtiINAHb",
        "colab_type": "code",
        "colab": {}
      },
      "source": [
        "def get_reply(msg):\n",
        "  model.eval()\n",
        "  input_msg, _ = prepare_features(msg)\n",
        "  if torch.cuda.is_available():\n",
        "    input_msg = input_msg.cuda()\n",
        "  output = model(input_msg)[0]\n",
        "  _, pred_label = torch.max(output.data, 1)\n",
        "  prediction=list(label_to_ix.keys())[pred_label]\n",
        "  return prediction"
      ],
      "execution_count": 0,
      "outputs": []
    },
    {
      "cell_type": "code",
      "metadata": {
        "id": "QTMIQUTWNmEp",
        "colab_type": "code",
        "outputId": "3927d458-0239-4ae3-85ad-4f9af2c6d7f3",
        "colab": {
          "base_uri": "https://localhost:8080/",
          "height": 34
        }
      },
      "source": [
        "label_to_ix.keys()"
      ],
      "execution_count": 33,
      "outputs": [
        {
          "output_type": "execute_result",
          "data": {
            "text/plain": [
              "dict_keys(['AddToPlaylist', 'BookRestaurant', 'GetWeather', 'PlayMusic', 'RateBook', 'SearchCreativeWork', 'SearchScreeningEvent'])"
            ]
          },
          "metadata": {
            "tags": []
          },
          "execution_count": 33
        }
      ]
    },
    {
      "cell_type": "code",
      "metadata": {
        "id": "UqEuS5a-NkGo",
        "colab_type": "code",
        "outputId": "8d8d7060-7a25-4996-a4cf-82627f2e3e9b",
        "colab": {
          "base_uri": "https://localhost:8080/",
          "height": 34
        }
      },
      "source": [
        "get_reply(\"play radiohead song\")"
      ],
      "execution_count": 34,
      "outputs": [
        {
          "output_type": "execute_result",
          "data": {
            "text/plain": [
              "'PlayMusic'"
            ]
          },
          "metadata": {
            "tags": []
          },
          "execution_count": 34
        }
      ]
    },
    {
      "cell_type": "code",
      "metadata": {
        "id": "PoAquwkMO8mB",
        "colab_type": "code",
        "outputId": "eaeb07fc-7bb0-44c2-93b4-ea44d6f9b778",
        "colab": {
          "base_uri": "https://localhost:8080/",
          "height": 34
        }
      },
      "source": [
        "get_reply(\"it is rainy in Sao Paulo\")"
      ],
      "execution_count": 35,
      "outputs": [
        {
          "output_type": "execute_result",
          "data": {
            "text/plain": [
              "'GetWeather'"
            ]
          },
          "metadata": {
            "tags": []
          },
          "execution_count": 35
        }
      ]
    },
    {
      "cell_type": "code",
      "metadata": {
        "id": "pBVApLSXimEa",
        "colab_type": "code",
        "outputId": "ccd9c7b4-c967-4901-c020-808c61e6f8d8",
        "colab": {
          "base_uri": "https://localhost:8080/",
          "height": 34
        }
      },
      "source": [
        "get_reply(\"sun shinnes all day\")"
      ],
      "execution_count": 36,
      "outputs": [
        {
          "output_type": "execute_result",
          "data": {
            "text/plain": [
              "'PlayMusic'"
            ]
          },
          "metadata": {
            "tags": []
          },
          "execution_count": 36
        }
      ]
    },
    {
      "cell_type": "code",
      "metadata": {
        "id": "uu5LiiHOip6l",
        "colab_type": "code",
        "outputId": "1a68a3b1-9219-4271-fa58-d0550fa5d94c",
        "colab": {
          "base_uri": "https://localhost:8080/",
          "height": 34
        }
      },
      "source": [
        "get_reply(\"low humidity, high altitude\")"
      ],
      "execution_count": 37,
      "outputs": [
        {
          "output_type": "execute_result",
          "data": {
            "text/plain": [
              "'PlayMusic'"
            ]
          },
          "metadata": {
            "tags": []
          },
          "execution_count": 37
        }
      ]
    },
    {
      "cell_type": "code",
      "metadata": {
        "id": "lZjsxgEIO8g0",
        "colab_type": "code",
        "outputId": "e2fed0f7-9e63-4d83-cefa-d2cea1f00730",
        "colab": {
          "base_uri": "https://localhost:8080/",
          "height": 34
        }
      },
      "source": [
        "get_reply(\"Book tacos for me tonight\")"
      ],
      "execution_count": 38,
      "outputs": [
        {
          "output_type": "execute_result",
          "data": {
            "text/plain": [
              "'BookRestaurant'"
            ]
          },
          "metadata": {
            "tags": []
          },
          "execution_count": 38
        }
      ]
    },
    {
      "cell_type": "code",
      "metadata": {
        "id": "a0NOU4AuO8VA",
        "colab_type": "code",
        "outputId": "82636274-705c-4bb7-ce80-f37f9cee4524",
        "colab": {
          "base_uri": "https://localhost:8080/",
          "height": 34
        }
      },
      "source": [
        "get_reply(\"Book a table for me tonight\")"
      ],
      "execution_count": 39,
      "outputs": [
        {
          "output_type": "execute_result",
          "data": {
            "text/plain": [
              "'BookRestaurant'"
            ]
          },
          "metadata": {
            "tags": []
          },
          "execution_count": 39
        }
      ]
    },
    {
      "cell_type": "code",
      "metadata": {
        "id": "YLX3-pmy2khU",
        "colab_type": "code",
        "outputId": "239a1686-0092-4eb7-d498-ef013efbbd45",
        "colab": {
          "base_uri": "https://localhost:8080/",
          "height": 34
        }
      },
      "source": [
        "get_reply(\"I want BBQ tonight\")"
      ],
      "execution_count": 40,
      "outputs": [
        {
          "output_type": "execute_result",
          "data": {
            "text/plain": [
              "'PlayMusic'"
            ]
          },
          "metadata": {
            "tags": []
          },
          "execution_count": 40
        }
      ]
    },
    {
      "cell_type": "code",
      "metadata": {
        "id": "oESeGpxL2mqR",
        "colab_type": "code",
        "colab": {}
      },
      "source": [
        ""
      ],
      "execution_count": 0,
      "outputs": []
    }
  ]
}